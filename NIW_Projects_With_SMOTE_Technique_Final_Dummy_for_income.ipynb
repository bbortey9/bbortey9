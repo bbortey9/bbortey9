{
  "cells": [
    {
      "cell_type": "markdown",
      "metadata": {
        "id": "view-in-github",
        "colab_type": "text"
      },
      "source": [
        "<a href=\"https://colab.research.google.com/github/bbortey9/bbortey9/blob/main/NIW_Projects_With_SMOTE_Technique_Final_Dummy_for_income.ipynb\" target=\"_parent\"><img src=\"https://colab.research.google.com/assets/colab-badge.svg\" alt=\"Open In Colab\"/></a>"
      ]
    },
    {
      "cell_type": "code",
      "execution_count": 5,
      "metadata": {
        "id": "hpe7W3rOVUOp"
      },
      "outputs": [],
      "source": [
        "from google.colab import drive"
      ]
    },
    {
      "cell_type": "code",
      "source": [
        "import numpy as np\n",
        "from sklearn.ensemble import RandomForestClassifier\n",
        "from sklearn.linear_model import LogisticRegression\n",
        "from sklearn.svm import SVC\n",
        "from sklearn.tree import DecisionTreeClassifier\n",
        "from sklearn.neighbors import KNeighborsClassifier\n",
        "from sklearn.discriminant_analysis import LinearDiscriminantAnalysis\n",
        "from sklearn.naive_bayes import GaussianNB\n",
        "from sklearn.model_selection import train_test_split\n",
        "from sklearn.model_selection import KFold,cross_val_score\n",
        "import matplotlib.pyplot as plt\n",
        "import pandas as pd\n",
        "import seaborn as sns\n",
        "import numpy as np\n",
        "from sklearn.metrics import accuracy_score, classification_report, roc_curve,confusion_matrix\n",
        "from sklearn.preprocessing import LabelEncoder\n",
        "from imblearn.over_sampling import SMOTE\n",
        "from statsmodels.stats.outliers_influence import variance_inflation_factor\n",
        "from xgboost import XGBClassifier\n",
        "import joblib\n",
        "from sklearn import metrics\n",
        "import statsmodels.api as sm\n",
        "import re  # Import the 're' module for regular expressions\n",
        "sns.set()"
      ],
      "metadata": {
        "id": "eqnmGaXxWZcI"
      },
      "execution_count": null,
      "outputs": []
    },
    {
      "cell_type": "code",
      "execution_count": 3,
      "metadata": {
        "id": "cWwSRSAeVUOr"
      },
      "outputs": [],
      "source": [
        "import warnings\n",
        "warnings.filterwarnings('ignore')"
      ]
    },
    {
      "cell_type": "code",
      "execution_count": 4,
      "metadata": {
        "colab": {
          "base_uri": "https://localhost:8080/",
          "height": 338
        },
        "id": "EVejwzx1VUOs",
        "outputId": "4a1d525b-3f4f-4c15-fba6-b42be42ddbb2"
      },
      "outputs": [
        {
          "output_type": "error",
          "ename": "FileNotFoundError",
          "evalue": "ignored",
          "traceback": [
            "\u001b[0;31m---------------------------------------------------------------------------\u001b[0m",
            "\u001b[0;31mFileNotFoundError\u001b[0m                         Traceback (most recent call last)",
            "\u001b[0;32m<ipython-input-4-9501b926f728>\u001b[0m in \u001b[0;36m<cell line: 2>\u001b[0;34m()\u001b[0m\n\u001b[1;32m      1\u001b[0m \u001b[0;31m#Reading the data\u001b[0m\u001b[0;34m\u001b[0m\u001b[0;34m\u001b[0m\u001b[0m\n\u001b[0;32m----> 2\u001b[0;31m \u001b[0mData\u001b[0m\u001b[0;34m=\u001b[0m\u001b[0mpd\u001b[0m\u001b[0;34m.\u001b[0m\u001b[0mread_excel\u001b[0m\u001b[0;34m(\u001b[0m\u001b[0;34m'C:/Users/Benjamin/Desktop/Interview/NIW/Data/Final_data_GSS/GSS.xlsx'\u001b[0m\u001b[0;34m)\u001b[0m\u001b[0;34m\u001b[0m\u001b[0;34m\u001b[0m\u001b[0m\n\u001b[0m",
            "\u001b[0;32m/usr/local/lib/python3.10/dist-packages/pandas/util/_decorators.py\u001b[0m in \u001b[0;36mwrapper\u001b[0;34m(*args, **kwargs)\u001b[0m\n\u001b[1;32m    209\u001b[0m                 \u001b[0;32melse\u001b[0m\u001b[0;34m:\u001b[0m\u001b[0;34m\u001b[0m\u001b[0;34m\u001b[0m\u001b[0m\n\u001b[1;32m    210\u001b[0m                     \u001b[0mkwargs\u001b[0m\u001b[0;34m[\u001b[0m\u001b[0mnew_arg_name\u001b[0m\u001b[0;34m]\u001b[0m \u001b[0;34m=\u001b[0m \u001b[0mnew_arg_value\u001b[0m\u001b[0;34m\u001b[0m\u001b[0;34m\u001b[0m\u001b[0m\n\u001b[0;32m--> 211\u001b[0;31m             \u001b[0;32mreturn\u001b[0m \u001b[0mfunc\u001b[0m\u001b[0;34m(\u001b[0m\u001b[0;34m*\u001b[0m\u001b[0margs\u001b[0m\u001b[0;34m,\u001b[0m \u001b[0;34m**\u001b[0m\u001b[0mkwargs\u001b[0m\u001b[0;34m)\u001b[0m\u001b[0;34m\u001b[0m\u001b[0;34m\u001b[0m\u001b[0m\n\u001b[0m\u001b[1;32m    212\u001b[0m \u001b[0;34m\u001b[0m\u001b[0m\n\u001b[1;32m    213\u001b[0m         \u001b[0;32mreturn\u001b[0m \u001b[0mcast\u001b[0m\u001b[0;34m(\u001b[0m\u001b[0mF\u001b[0m\u001b[0;34m,\u001b[0m \u001b[0mwrapper\u001b[0m\u001b[0;34m)\u001b[0m\u001b[0;34m\u001b[0m\u001b[0;34m\u001b[0m\u001b[0m\n",
            "\u001b[0;32m/usr/local/lib/python3.10/dist-packages/pandas/util/_decorators.py\u001b[0m in \u001b[0;36mwrapper\u001b[0;34m(*args, **kwargs)\u001b[0m\n\u001b[1;32m    329\u001b[0m                     \u001b[0mstacklevel\u001b[0m\u001b[0;34m=\u001b[0m\u001b[0mfind_stack_level\u001b[0m\u001b[0;34m(\u001b[0m\u001b[0;34m)\u001b[0m\u001b[0;34m,\u001b[0m\u001b[0;34m\u001b[0m\u001b[0;34m\u001b[0m\u001b[0m\n\u001b[1;32m    330\u001b[0m                 )\n\u001b[0;32m--> 331\u001b[0;31m             \u001b[0;32mreturn\u001b[0m \u001b[0mfunc\u001b[0m\u001b[0;34m(\u001b[0m\u001b[0;34m*\u001b[0m\u001b[0margs\u001b[0m\u001b[0;34m,\u001b[0m \u001b[0;34m**\u001b[0m\u001b[0mkwargs\u001b[0m\u001b[0;34m)\u001b[0m\u001b[0;34m\u001b[0m\u001b[0;34m\u001b[0m\u001b[0m\n\u001b[0m\u001b[1;32m    332\u001b[0m \u001b[0;34m\u001b[0m\u001b[0m\n\u001b[1;32m    333\u001b[0m         \u001b[0;31m# error: \"Callable[[VarArg(Any), KwArg(Any)], Any]\" has no\u001b[0m\u001b[0;34m\u001b[0m\u001b[0;34m\u001b[0m\u001b[0m\n",
            "\u001b[0;32m/usr/local/lib/python3.10/dist-packages/pandas/io/excel/_base.py\u001b[0m in \u001b[0;36mread_excel\u001b[0;34m(io, sheet_name, header, names, index_col, usecols, squeeze, dtype, engine, converters, true_values, false_values, skiprows, nrows, na_values, keep_default_na, na_filter, verbose, parse_dates, date_parser, thousands, decimal, comment, skipfooter, convert_float, mangle_dupe_cols, storage_options)\u001b[0m\n\u001b[1;32m    480\u001b[0m     \u001b[0;32mif\u001b[0m \u001b[0;32mnot\u001b[0m \u001b[0misinstance\u001b[0m\u001b[0;34m(\u001b[0m\u001b[0mio\u001b[0m\u001b[0;34m,\u001b[0m \u001b[0mExcelFile\u001b[0m\u001b[0;34m)\u001b[0m\u001b[0;34m:\u001b[0m\u001b[0;34m\u001b[0m\u001b[0;34m\u001b[0m\u001b[0m\n\u001b[1;32m    481\u001b[0m         \u001b[0mshould_close\u001b[0m \u001b[0;34m=\u001b[0m \u001b[0;32mTrue\u001b[0m\u001b[0;34m\u001b[0m\u001b[0;34m\u001b[0m\u001b[0m\n\u001b[0;32m--> 482\u001b[0;31m         \u001b[0mio\u001b[0m \u001b[0;34m=\u001b[0m \u001b[0mExcelFile\u001b[0m\u001b[0;34m(\u001b[0m\u001b[0mio\u001b[0m\u001b[0;34m,\u001b[0m \u001b[0mstorage_options\u001b[0m\u001b[0;34m=\u001b[0m\u001b[0mstorage_options\u001b[0m\u001b[0;34m,\u001b[0m \u001b[0mengine\u001b[0m\u001b[0;34m=\u001b[0m\u001b[0mengine\u001b[0m\u001b[0;34m)\u001b[0m\u001b[0;34m\u001b[0m\u001b[0;34m\u001b[0m\u001b[0m\n\u001b[0m\u001b[1;32m    483\u001b[0m     \u001b[0;32melif\u001b[0m \u001b[0mengine\u001b[0m \u001b[0;32mand\u001b[0m \u001b[0mengine\u001b[0m \u001b[0;34m!=\u001b[0m \u001b[0mio\u001b[0m\u001b[0;34m.\u001b[0m\u001b[0mengine\u001b[0m\u001b[0;34m:\u001b[0m\u001b[0;34m\u001b[0m\u001b[0;34m\u001b[0m\u001b[0m\n\u001b[1;32m    484\u001b[0m         raise ValueError(\n",
            "\u001b[0;32m/usr/local/lib/python3.10/dist-packages/pandas/io/excel/_base.py\u001b[0m in \u001b[0;36m__init__\u001b[0;34m(self, path_or_buffer, engine, storage_options)\u001b[0m\n\u001b[1;32m   1650\u001b[0m                 \u001b[0mext\u001b[0m \u001b[0;34m=\u001b[0m \u001b[0;34m\"xls\"\u001b[0m\u001b[0;34m\u001b[0m\u001b[0;34m\u001b[0m\u001b[0m\n\u001b[1;32m   1651\u001b[0m             \u001b[0;32melse\u001b[0m\u001b[0;34m:\u001b[0m\u001b[0;34m\u001b[0m\u001b[0;34m\u001b[0m\u001b[0m\n\u001b[0;32m-> 1652\u001b[0;31m                 ext = inspect_excel_format(\n\u001b[0m\u001b[1;32m   1653\u001b[0m                     \u001b[0mcontent_or_path\u001b[0m\u001b[0;34m=\u001b[0m\u001b[0mpath_or_buffer\u001b[0m\u001b[0;34m,\u001b[0m \u001b[0mstorage_options\u001b[0m\u001b[0;34m=\u001b[0m\u001b[0mstorage_options\u001b[0m\u001b[0;34m\u001b[0m\u001b[0;34m\u001b[0m\u001b[0m\n\u001b[1;32m   1654\u001b[0m                 )\n",
            "\u001b[0;32m/usr/local/lib/python3.10/dist-packages/pandas/io/excel/_base.py\u001b[0m in \u001b[0;36minspect_excel_format\u001b[0;34m(content_or_path, storage_options)\u001b[0m\n\u001b[1;32m   1523\u001b[0m         \u001b[0mcontent_or_path\u001b[0m \u001b[0;34m=\u001b[0m \u001b[0mBytesIO\u001b[0m\u001b[0;34m(\u001b[0m\u001b[0mcontent_or_path\u001b[0m\u001b[0;34m)\u001b[0m\u001b[0;34m\u001b[0m\u001b[0;34m\u001b[0m\u001b[0m\n\u001b[1;32m   1524\u001b[0m \u001b[0;34m\u001b[0m\u001b[0m\n\u001b[0;32m-> 1525\u001b[0;31m     with get_handle(\n\u001b[0m\u001b[1;32m   1526\u001b[0m         \u001b[0mcontent_or_path\u001b[0m\u001b[0;34m,\u001b[0m \u001b[0;34m\"rb\"\u001b[0m\u001b[0;34m,\u001b[0m \u001b[0mstorage_options\u001b[0m\u001b[0;34m=\u001b[0m\u001b[0mstorage_options\u001b[0m\u001b[0;34m,\u001b[0m \u001b[0mis_text\u001b[0m\u001b[0;34m=\u001b[0m\u001b[0;32mFalse\u001b[0m\u001b[0;34m\u001b[0m\u001b[0;34m\u001b[0m\u001b[0m\n\u001b[1;32m   1527\u001b[0m     ) as handle:\n",
            "\u001b[0;32m/usr/local/lib/python3.10/dist-packages/pandas/io/common.py\u001b[0m in \u001b[0;36mget_handle\u001b[0;34m(path_or_buf, mode, encoding, compression, memory_map, is_text, errors, storage_options)\u001b[0m\n\u001b[1;32m    863\u001b[0m         \u001b[0;32melse\u001b[0m\u001b[0;34m:\u001b[0m\u001b[0;34m\u001b[0m\u001b[0;34m\u001b[0m\u001b[0m\n\u001b[1;32m    864\u001b[0m             \u001b[0;31m# Binary mode\u001b[0m\u001b[0;34m\u001b[0m\u001b[0;34m\u001b[0m\u001b[0m\n\u001b[0;32m--> 865\u001b[0;31m             \u001b[0mhandle\u001b[0m \u001b[0;34m=\u001b[0m \u001b[0mopen\u001b[0m\u001b[0;34m(\u001b[0m\u001b[0mhandle\u001b[0m\u001b[0;34m,\u001b[0m \u001b[0mioargs\u001b[0m\u001b[0;34m.\u001b[0m\u001b[0mmode\u001b[0m\u001b[0;34m)\u001b[0m\u001b[0;34m\u001b[0m\u001b[0;34m\u001b[0m\u001b[0m\n\u001b[0m\u001b[1;32m    866\u001b[0m         \u001b[0mhandles\u001b[0m\u001b[0;34m.\u001b[0m\u001b[0mappend\u001b[0m\u001b[0;34m(\u001b[0m\u001b[0mhandle\u001b[0m\u001b[0;34m)\u001b[0m\u001b[0;34m\u001b[0m\u001b[0;34m\u001b[0m\u001b[0m\n\u001b[1;32m    867\u001b[0m \u001b[0;34m\u001b[0m\u001b[0m\n",
            "\u001b[0;31mFileNotFoundError\u001b[0m: [Errno 2] No such file or directory: 'C:/Users/Benjamin/Desktop/Interview/NIW/Data/Final_data_GSS/GSS.xlsx'"
          ]
        }
      ],
      "source": [
        "#Reading the data\n",
        "Data=pd.read_excel('C:/Users/Benjamin/Desktop/Interview/NIW/Data/Final_data_GSS/GSS.xlsx')"
      ]
    },
    {
      "cell_type": "code",
      "execution_count": null,
      "metadata": {
        "id": "J6dpA4h2VUOt",
        "outputId": "199ecb7f-2c0a-406a-976b-e9885d75baca"
      },
      "outputs": [
        {
          "name": "stdout",
          "output_type": "stream",
          "text": [
            "<class 'pandas.core.frame.DataFrame'>\n",
            "RangeIndex: 72390 entries, 0 to 72389\n",
            "Data columns (total 33 columns):\n",
            " #   Column     Non-Null Count  Dtype \n",
            "---  ------     --------------  ----- \n",
            " 0   year       72390 non-null  int64 \n",
            " 1   id_        72390 non-null  int64 \n",
            " 2   wrkstat    72390 non-null  object\n",
            " 3   evwork     72390 non-null  object\n",
            " 4   occ        72390 non-null  int64 \n",
            " 5   prestige   72390 non-null  object\n",
            " 6   wrkgovt    72390 non-null  object\n",
            " 7   commute    72390 non-null  object\n",
            " 8   industry   72390 non-null  object\n",
            " 9   occ80      72390 non-null  object\n",
            " 10  age        72390 non-null  object\n",
            " 11  padeg      72390 non-null  object\n",
            " 12  madeg      72390 non-null  object\n",
            " 13  sex        72390 non-null  object\n",
            " 14  race       72390 non-null  object\n",
            " 15  res16      72390 non-null  object\n",
            " 16  rincome    72390 non-null  object\n",
            " 17  income06   72390 non-null  object\n",
            " 18  courtsy    72390 non-null  object\n",
            " 19  socbar     72390 non-null  object\n",
            " 20  drunk      72390 non-null  object\n",
            " 21  owngun     72390 non-null  object\n",
            " 22  convictd   72390 non-null  object\n",
            " 23  drinkyr    72390 non-null  object\n",
            " 24  viglab06   72390 non-null  object\n",
            " 25  feinc      72390 non-null  object\n",
            " 26  kiddrugs   72390 non-null  object\n",
            " 27  evidu      72390 non-null  object\n",
            " 28  idu30      72390 non-null  object\n",
            " 29  hlth5      72390 non-null  object\n",
            " 30  hlth8      72390 non-null  object\n",
            " 31  ballot     72390 non-null  object\n",
            " 32  drinkday1  72390 non-null  object\n",
            "dtypes: int64(3), object(30)\n",
            "memory usage: 18.2+ MB\n"
          ]
        }
      ],
      "source": [
        "Data.info()"
      ]
    },
    {
      "cell_type": "code",
      "execution_count": null,
      "metadata": {
        "id": "Sh9_d59xVUOu"
      },
      "outputs": [],
      "source": [
        "#Filter rows where 'year' is 2012\n",
        "Data=Data[Data['year']==2012]"
      ]
    },
    {
      "cell_type": "code",
      "execution_count": null,
      "metadata": {
        "id": "d-ysXDY8VUOv"
      },
      "outputs": [],
      "source": [
        "# Specify the columns to drop\n",
        "columns_to_drop = ['id_','feinc','courtsy', 'prestige','commute','industry','occ80','drunk','drinkyr',\n",
        "                   'viglab06','feinc','kiddrugs','hlth5','hlth8','ballot','drinkday1','evwork','occ','year','wrkgovt','evidu','idu30','income06','owngun','wrkstat','socbar']\n",
        "\n",
        "#Use the 'drop' method to remove the specified columns\n",
        "Data=Data.drop(columns=columns_to_drop)"
      ]
    },
    {
      "cell_type": "code",
      "execution_count": null,
      "metadata": {
        "id": "CUyZL6E3VUOv"
      },
      "outputs": [],
      "source": [
        "'socbar','owngun'# Values to exclude from 'Column1'\n",
        "exclude_values=[\".s:  Skipped on Web\", \".n:  No answer\", \".d:  Do not Know/Cannot Choose\",\".r:  Refused\",\"REFUSED\" ]\n",
        "\n",
        "# List of columns to apply the exclusion to\n",
        "columns_to_exclude = ['convictd','age','sex','race','res16','rincome','madeg','padeg']\n",
        "\n",
        "# Loop through the columns and apply the exclusion condition\n",
        "for column in columns_to_exclude:\n",
        "    Data = Data[~Data[column].isin(exclude_values)]"
      ]
    },
    {
      "cell_type": "code",
      "execution_count": null,
      "metadata": {
        "id": "PY4d0jQeVUOv"
      },
      "outputs": [],
      "source": [
        "Data=Data.replace(\".i:  Inapplicable\", \"No\")"
      ]
    },
    {
      "cell_type": "code",
      "execution_count": null,
      "metadata": {
        "id": "8mdjfKPOVUOv",
        "outputId": "517a06a8-8d53-40ca-b54f-6f945e9d1f2f"
      },
      "outputs": [
        {
          "data": {
            "text/plain": [
              "FEMALE    928\n",
              "MALE      768\n",
              "Name: sex, dtype: int64"
            ]
          },
          "execution_count": 675,
          "metadata": {},
          "output_type": "execute_result"
        }
      ],
      "source": [
        "Data['sex'].value_counts()"
      ]
    },
    {
      "cell_type": "code",
      "execution_count": null,
      "metadata": {
        "id": "ekAUAf-BVUOw",
        "outputId": "f35a2550-62a7-4906-9d54-4e7060a034d8"
      },
      "outputs": [
        {
          "name": "stdout",
          "output_type": "stream",
          "text": [
            "Before dedup: (1696, 8)\n",
            "After dedup: (1696, 8)\n"
          ]
        }
      ],
      "source": [
        "#Check and drop deplicate columns\n",
        "print('Before dedup:', Data.shape)\n",
        "Data_cln=Data.loc[:, ~Data.columns.duplicated()]\n",
        "print('After dedup:', Data_cln.shape)\n",
        "duplicateCols=Data.loc[:, Data.columns.duplicated()]\n",
        "if (duplicateCols.shape[1] !=0):\n",
        "    print('Number of duplicated columns dropped:', duplicatedCols.shape[1])\n",
        "    print(\"Dupliate columns except first occurrences:\")\n",
        "    print(list(duplicateCols.columns))"
      ]
    },
    {
      "cell_type": "code",
      "execution_count": null,
      "metadata": {
        "id": "yityumTrVUOw",
        "outputId": "955761de-65ea-4a0d-db7d-3c655bb7ffa9"
      },
      "outputs": [
        {
          "name": "stdout",
          "output_type": "stream",
          "text": [
            "Before dedup: (1696, 8)\n",
            "After dedup: (1642, 8)\n",
            "Number of duplicated rows dropped: 54\n",
            "Duplicate rows except first occurrence:\n",
            "               age           padeg           madeg     sex   race  \\\n",
            "55133           73        GRADUATE     HIGH SCHOOL  FEMALE  White   \n",
            "55354           68     HIGH SCHOOL     HIGH SCHOOL  FEMALE  White   \n",
            "55615           20              No     HIGH SCHOOL    MALE  Black   \n",
            "55671           42        BACHELOR  LT HIGH SCHOOL    MALE  Other   \n",
            "55760           61     HIGH SCHOOL     HIGH SCHOOL  FEMALE  White   \n",
            "55803           57     HIGH SCHOOL     HIGH SCHOOL    MALE  White   \n",
            "55862           50        BACHELOR        BACHELOR    MALE  White   \n",
            "55885           81     HIGH SCHOOL     HIGH SCHOOL  FEMALE  White   \n",
            "55912           46        GRADUATE     HIGH SCHOOL    MALE  White   \n",
            "55926           27     HIGH SCHOOL     HIGH SCHOOL  FEMALE  White   \n",
            "56020           48     HIGH SCHOOL     HIGH SCHOOL  FEMALE  White   \n",
            "56110           62     HIGH SCHOOL     HIGH SCHOOL    MALE  White   \n",
            "56191           61     HIGH SCHOOL     HIGH SCHOOL    MALE  White   \n",
            "56278           56     HIGH SCHOOL     HIGH SCHOOL    MALE  Black   \n",
            "56300           84  LT HIGH SCHOOL  LT HIGH SCHOOL    MALE  White   \n",
            "56319           71  LT HIGH SCHOOL  LT HIGH SCHOOL  FEMALE  White   \n",
            "56334           55  LT HIGH SCHOOL  LT HIGH SCHOOL  FEMALE  White   \n",
            "56339           52     HIGH SCHOOL     HIGH SCHOOL    MALE  White   \n",
            "56367           57     HIGH SCHOOL     HIGH SCHOOL    MALE  White   \n",
            "56396           51  LT HIGH SCHOOL     HIGH SCHOOL    MALE  White   \n",
            "56422           62     HIGH SCHOOL     HIGH SCHOOL    MALE  White   \n",
            "56441           50     HIGH SCHOOL     HIGH SCHOOL  FEMALE  White   \n",
            "56457           62  LT HIGH SCHOOL     HIGH SCHOOL    MALE  White   \n",
            "56461  89 or older  LT HIGH SCHOOL  LT HIGH SCHOOL    MALE  White   \n",
            "56481           41        BACHELOR     HIGH SCHOOL    MALE  White   \n",
            "56485           45        GRADUATE        BACHELOR  FEMALE  White   \n",
            "56526           22              No        BACHELOR  FEMALE  White   \n",
            "56529  89 or older  LT HIGH SCHOOL  LT HIGH SCHOOL    MALE  White   \n",
            "56578           30     HIGH SCHOOL     HIGH SCHOOL    MALE  White   \n",
            "56585           30     HIGH SCHOOL     HIGH SCHOOL    MALE  White   \n",
            "56586           52     HIGH SCHOOL     HIGH SCHOOL  FEMALE  White   \n",
            "56587           72     HIGH SCHOOL     HIGH SCHOOL    MALE  White   \n",
            "56588           51        BACHELOR        BACHELOR    MALE  White   \n",
            "56623           33     HIGH SCHOOL     HIGH SCHOOL  FEMALE  White   \n",
            "56625           77  LT HIGH SCHOOL  LT HIGH SCHOOL  FEMALE  White   \n",
            "56739           65     HIGH SCHOOL     HIGH SCHOOL  FEMALE  White   \n",
            "56744           57  LT HIGH SCHOOL  LT HIGH SCHOOL  FEMALE  Other   \n",
            "56784           87  LT HIGH SCHOOL  LT HIGH SCHOOL    MALE  White   \n",
            "56788           37        GRADUATE        GRADUATE    MALE  White   \n",
            "56813           48     HIGH SCHOOL     HIGH SCHOOL  FEMALE  White   \n",
            "56818           71  LT HIGH SCHOOL  LT HIGH SCHOOL  FEMALE  White   \n",
            "56850           62     HIGH SCHOOL     HIGH SCHOOL  FEMALE  White   \n",
            "56870           25     HIGH SCHOOL     HIGH SCHOOL  FEMALE  White   \n",
            "56879           31     HIGH SCHOOL     HIGH SCHOOL  FEMALE  White   \n",
            "56885           44        BACHELOR        BACHELOR    MALE  White   \n",
            "56890           36        BACHELOR     HIGH SCHOOL    MALE  White   \n",
            "56910           68     HIGH SCHOOL  LT HIGH SCHOOL    MALE  White   \n",
            "56911           69     HIGH SCHOOL     HIGH SCHOOL  FEMALE  White   \n",
            "56947           65     HIGH SCHOOL     HIGH SCHOOL  FEMALE  White   \n",
            "56991           68  LT HIGH SCHOOL  LT HIGH SCHOOL    MALE  White   \n",
            "56996           57  LT HIGH SCHOOL  LT HIGH SCHOOL  FEMALE  Black   \n",
            "57018           81  LT HIGH SCHOOL  LT HIGH SCHOOL  FEMALE  White   \n",
            "57032           50     HIGH SCHOOL     HIGH SCHOOL    MALE  White   \n",
            "57058           48     HIGH SCHOOL     HIGH SCHOOL    MALE  White   \n",
            "\n",
            "                 res16         rincome convictd  \n",
            "55133  BIG-CITY SUBURB              No       No  \n",
            "55354             FARM              No       No  \n",
            "55615  BIG-CITY SUBURB              No       No  \n",
            "55671   CITY GT 250000  $25000 OR MORE       No  \n",
            "55760    TOWN LT 50000  $25000 OR MORE       No  \n",
            "55803    TOWN LT 50000              No       No  \n",
            "55862   CITY GT 250000  $25000 OR MORE       No  \n",
            "55885  50000 TO 250000              No       No  \n",
            "55912  BIG-CITY SUBURB  $25000 OR MORE       No  \n",
            "55926  BIG-CITY SUBURB  $20000 - 24999       No  \n",
            "56020    TOWN LT 50000  $25000 OR MORE       No  \n",
            "56110    TOWN LT 50000  $25000 OR MORE       No  \n",
            "56191  COUNTRY,NONFARM  $25000 OR MORE       No  \n",
            "56278    TOWN LT 50000  $25000 OR MORE       No  \n",
            "56300    TOWN LT 50000              No       No  \n",
            "56319    TOWN LT 50000              No       No  \n",
            "56334    TOWN LT 50000              No       No  \n",
            "56339   CITY GT 250000  $25000 OR MORE       No  \n",
            "56367  BIG-CITY SUBURB  $25000 OR MORE       No  \n",
            "56396  BIG-CITY SUBURB  $25000 OR MORE       No  \n",
            "56422    TOWN LT 50000  $25000 OR MORE       No  \n",
            "56441  50000 TO 250000  $25000 OR MORE       No  \n",
            "56457  BIG-CITY SUBURB  $25000 OR MORE       No  \n",
            "56461    TOWN LT 50000              No       No  \n",
            "56481    TOWN LT 50000  $25000 OR MORE       No  \n",
            "56485  BIG-CITY SUBURB  $25000 OR MORE       No  \n",
            "56526    TOWN LT 50000              No       No  \n",
            "56529    TOWN LT 50000              No       No  \n",
            "56578             FARM  $25000 OR MORE       No  \n",
            "56585    TOWN LT 50000  $25000 OR MORE       No  \n",
            "56586  50000 TO 250000  $25000 OR MORE       No  \n",
            "56587  50000 TO 250000              No       No  \n",
            "56588  50000 TO 250000  $25000 OR MORE       No  \n",
            "56623  50000 TO 250000              No       No  \n",
            "56625    TOWN LT 50000              No       No  \n",
            "56739    TOWN LT 50000              No       No  \n",
            "56744  50000 TO 250000              No       No  \n",
            "56784    TOWN LT 50000              No       No  \n",
            "56788  50000 TO 250000  $25000 OR MORE       No  \n",
            "56813    TOWN LT 50000              No       No  \n",
            "56818             FARM              No       No  \n",
            "56850    TOWN LT 50000              No       No  \n",
            "56870  50000 TO 250000  $10000 - 14999       No  \n",
            "56879    TOWN LT 50000  $25000 OR MORE       No  \n",
            "56885  BIG-CITY SUBURB  $25000 OR MORE       No  \n",
            "56890    TOWN LT 50000  $25000 OR MORE       No  \n",
            "56910             FARM              No       No  \n",
            "56911    TOWN LT 50000              No       No  \n",
            "56947    TOWN LT 50000              No       No  \n",
            "56991    TOWN LT 50000              No       No  \n",
            "56996    TOWN LT 50000              No       No  \n",
            "57018             FARM              No       No  \n",
            "57032    TOWN LT 50000  $25000 OR MORE       No  \n",
            "57058   CITY GT 250000  $25000 OR MORE       No  \n"
          ]
        }
      ],
      "source": [
        "#Check and drop duplicated rows based on all columns\n",
        "print ('Before dedup:', Data_cln.shape)\n",
        "Data_cln.drop_duplicates(inplace=True) #by default keep='first'\n",
        "print('After dedup:', Data_cln.shape)\n",
        "duplicateRows=Data[Data.duplicated()]\n",
        "print('Number of duplicated rows dropped:', Data.shape[0] - Data_cln.shape[0])\n",
        "if (Data_cln.shape[0] - Data.shape[0] !=0):\n",
        "    print(\"Duplicate rows except first occurrence:\")\n",
        "    print(duplicateRows)"
      ]
    },
    {
      "cell_type": "code",
      "execution_count": null,
      "metadata": {
        "id": "EQQSygcHVUOx",
        "outputId": "599b23b7-6209-4d41-89af-6c328caefb5d"
      },
      "outputs": [
        {
          "data": {
            "text/html": [
              "<div>\n",
              "<style scoped>\n",
              "    .dataframe tbody tr th:only-of-type {\n",
              "        vertical-align: middle;\n",
              "    }\n",
              "\n",
              "    .dataframe tbody tr th {\n",
              "        vertical-align: top;\n",
              "    }\n",
              "\n",
              "    .dataframe thead th {\n",
              "        text-align: right;\n",
              "    }\n",
              "</style>\n",
              "<table border=\"1\" class=\"dataframe\">\n",
              "  <thead>\n",
              "    <tr style=\"text-align: right;\">\n",
              "      <th></th>\n",
              "      <th>missing_rate</th>\n",
              "      <th>zero_rate</th>\n",
              "      <th>count_unique</th>\n",
              "      <th>data_type</th>\n",
              "    </tr>\n",
              "  </thead>\n",
              "  <tbody>\n",
              "    <tr>\n",
              "      <th>age</th>\n",
              "      <td>0.0</td>\n",
              "      <td>0.0</td>\n",
              "      <td>72</td>\n",
              "      <td>object</td>\n",
              "    </tr>\n",
              "    <tr>\n",
              "      <th>padeg</th>\n",
              "      <td>0.0</td>\n",
              "      <td>0.0</td>\n",
              "      <td>6</td>\n",
              "      <td>object</td>\n",
              "    </tr>\n",
              "    <tr>\n",
              "      <th>madeg</th>\n",
              "      <td>0.0</td>\n",
              "      <td>0.0</td>\n",
              "      <td>6</td>\n",
              "      <td>object</td>\n",
              "    </tr>\n",
              "    <tr>\n",
              "      <th>sex</th>\n",
              "      <td>0.0</td>\n",
              "      <td>0.0</td>\n",
              "      <td>2</td>\n",
              "      <td>object</td>\n",
              "    </tr>\n",
              "    <tr>\n",
              "      <th>race</th>\n",
              "      <td>0.0</td>\n",
              "      <td>0.0</td>\n",
              "      <td>3</td>\n",
              "      <td>object</td>\n",
              "    </tr>\n",
              "    <tr>\n",
              "      <th>res16</th>\n",
              "      <td>0.0</td>\n",
              "      <td>0.0</td>\n",
              "      <td>6</td>\n",
              "      <td>object</td>\n",
              "    </tr>\n",
              "    <tr>\n",
              "      <th>rincome</th>\n",
              "      <td>0.0</td>\n",
              "      <td>0.0</td>\n",
              "      <td>13</td>\n",
              "      <td>object</td>\n",
              "    </tr>\n",
              "    <tr>\n",
              "      <th>convictd</th>\n",
              "      <td>0.0</td>\n",
              "      <td>0.0</td>\n",
              "      <td>2</td>\n",
              "      <td>object</td>\n",
              "    </tr>\n",
              "  </tbody>\n",
              "</table>\n",
              "</div>"
            ],
            "text/plain": [
              "          missing_rate  zero_rate  count_unique data_type\n",
              "age                0.0        0.0            72    object\n",
              "padeg              0.0        0.0             6    object\n",
              "madeg              0.0        0.0             6    object\n",
              "sex                0.0        0.0             2    object\n",
              "race               0.0        0.0             3    object\n",
              "res16              0.0        0.0             6    object\n",
              "rincome            0.0        0.0            13    object\n",
              "convictd           0.0        0.0             2    object"
            ]
          },
          "execution_count": 678,
          "metadata": {},
          "output_type": "execute_result"
        }
      ],
      "source": [
        "#Checking Missing and Zero rate\n",
        "def zero_missing_unique(df):\n",
        "    var_miss_rate=df.isnull().sum(axis=0)/df.shape[0]\n",
        "    var_miss_rate=var_miss_rate.to_frame('missing_rate')\n",
        "\n",
        "    var_zero_rate=(df==0).astype(int).sum(axis=0)/df.shape[0]\n",
        "    var_zero_rate=var_zero_rate.to_frame('zero_rate')\n",
        "    var_unique=df.nunique().to_frame('count_unique')\n",
        "    var_type=df.dtypes.to_frame('data_type')\n",
        "    data_stat=pd.concat([var_miss_rate, var_zero_rate,var_unique, var_type], axis=1)\n",
        "    return data_stat\n",
        "stat_zero_missing_unique=zero_missing_unique(Data)# just change the data name here to your own data\n",
        "stat_zero_missing_unique"
      ]
    },
    {
      "cell_type": "markdown",
      "metadata": {
        "id": "3wBfw295VUOx"
      },
      "source": [
        "# Cleaning Income variables"
      ]
    },
    {
      "cell_type": "code",
      "execution_count": null,
      "metadata": {
        "id": "3W4273TkVUOy"
      },
      "outputs": [],
      "source": [
        "# Function to clean and format income ranges\n",
        "def clean_income_range(range_str):\n",
        "    if isinstance(range_str, str):\n",
        "        # Remove dollar signs and replace \"UNDER $1 000\" and \"$150000 OR OVER\"\n",
        "        range_str = range_str.replace('No','0')\n",
        "    return range_str\n",
        "\n",
        "# Define the columns you want to process\n",
        "columns_to_process = ['rincome']\n",
        "\n",
        "# Apply the function to each selected column\n",
        "for column in columns_to_process:\n",
        "    Data[column] = Data[column].apply(clean_income_range)"
      ]
    },
    {
      "cell_type": "code",
      "execution_count": null,
      "metadata": {
        "id": "p7Bx8igFVUOz"
      },
      "outputs": [],
      "source": [
        "mapping_1= {\n",
        "    \"No\":0,\n",
        "    \"LT $1000\": 1,\n",
        "    \"$1000 TO 2999\": 2,\n",
        "    \"$3000 TO 3999\": 3,\n",
        "    \"$4000 TO 4999\": 4,\n",
        "    \"$5000 TO 5999\": 5,\n",
        "    \"$6000 TO 6999\": 6,\n",
        "    \"$7000 TO 7999\": 7,\n",
        "    \"$8000 TO 9999\": 8,\n",
        "    \"$10000 - 14999\": 9,\n",
        "    \"$15000 - 19999\": 10,\n",
        "    \"$20000 - 24999\": 11,\n",
        "    \"$25000 OR MORE\": 12 }"
      ]
    },
    {
      "cell_type": "code",
      "execution_count": null,
      "metadata": {
        "id": "rVi5ORmAVUOz"
      },
      "outputs": [],
      "source": [
        "# Create a new column with the specified values based on the mapping\n",
        "Data['rincome'] = Data['rincome'].map(mapping_1)"
      ]
    },
    {
      "cell_type": "code",
      "execution_count": null,
      "metadata": {
        "id": "JJvU5jMiVUOz"
      },
      "outputs": [],
      "source": [
        "# Define your mapping\n",
        "#mapping_2= {\n",
        "    #\"$60000 TO 74999\": 20,\n",
        "    #\"$75000 TO $89999\": 21,\n",
        "    #\"$150000 OR OVER\": 25,\n",
        "    #\"$40000 TO 49999\": 18,\n",
        "    #\"$50000 TO 59999\": 19,\n",
        "    #\"$90000 TO $109999\": 22,\n",
        "    #\"$35000 TO 39999\": 17,\n",
        "    #\"$25000 TO 29999\": 15,\n",
        "    #\"$30000 TO 34999\": 16,\n",
        "    #\"$10000 TO 12499\": 9,\n",
        "    #\"$110000 TO $129999\":23,\n",
        "    #\"$20000 TO 22499\": 13,\n",
        "    #\"$22500 TO 24999\": 14,\n",
        "    #\"$12500 TO 14999\": 10,\n",
        "    #\"$15000 TO 17499\": 11,\n",
        "    #\"$17500 TO 19999\": 12,\n",
        "    #\"$130000 TO $149999\":24,\n",
        "    #\"$8 000 TO 9 999\": 8,\n",
        "    #\"$1 000 TO 2 999\": 2,\n",
        "    #\"$7 000 TO 7 999\": 7,\n",
        "    #\"UNDER $1 000\": 1,\n",
        "    #\"$6 000 TO 6 999\": 6,\n",
        "    #\"$3 000 TO 3 999\": 3,\n",
        "    #\"$4 000 TO 4 999\": 4,\n",
        "    #\"$5 000 TO 5 999\": 5\n",
        "#}\n",
        "\n",
        "# Apply the mapping to create a new column\n",
        "#Data['income06'] = Data['income06'].map(mapping_2)\n"
      ]
    },
    {
      "cell_type": "markdown",
      "metadata": {
        "id": "akQhpC0EVUO0"
      },
      "source": [
        "# Creating Dummies for nominal categorical independent variables"
      ]
    },
    {
      "cell_type": "code",
      "execution_count": null,
      "metadata": {
        "id": "cdswfGryVUO0"
      },
      "outputs": [],
      "source": [
        "# List of categorical variables to one-hot encode\n",
        "categorical_columns= ['sex','race','res16']\n",
        "\n",
        "\n",
        "# Use get_dummies to one-hot encode the 'Category' column\n",
        "Data= pd.get_dummies(Data, columns=categorical_columns, prefix=categorical_columns, drop_first=True)\n"
      ]
    },
    {
      "cell_type": "markdown",
      "metadata": {
        "id": "RP0ToG3tVUO0"
      },
      "source": [
        "# Applying the lable enconder for ordinal categorical variables and dependent variable."
      ]
    },
    {
      "cell_type": "code",
      "execution_count": null,
      "metadata": {
        "id": "a_xVLGuRVUO0"
      },
      "outputs": [],
      "source": [
        "# Define the list of ordinal categorical columns\n",
        "ordinal_cols = ['convictd','rincome','madeg','padeg']\n",
        "\n",
        "# Initialize a dictionary to store label encoders\n",
        "label_encoders = {}\n",
        "\n",
        "# Apply Label Encoding to each ordinal column\n",
        "for col in ordinal_cols:\n",
        "    label_encoders[col] = LabelEncoder()\n",
        "    Data[f'{col}_encoded'] = label_encoders[col].fit_transform(Data[col])"
      ]
    },
    {
      "cell_type": "code",
      "execution_count": null,
      "metadata": {
        "id": "fGWJ8lQFVUO0"
      },
      "outputs": [],
      "source": [
        "# Specify the columns to drop\n",
        "columns_to_drop = ['convictd','rincome','madeg','padeg']\n",
        "\n",
        "#Use the 'drop' method to remove the specified columns\n",
        "Data=Data.drop(columns=columns_to_drop)"
      ]
    },
    {
      "cell_type": "markdown",
      "metadata": {
        "id": "bV3-aPf5VUO0"
      },
      "source": [
        "# Replacing '89 or older' with 89 in Python"
      ]
    },
    {
      "cell_type": "code",
      "execution_count": null,
      "metadata": {
        "id": "ayCpK6O4VUO0"
      },
      "outputs": [],
      "source": [
        "# Replace '89 or older' with '89' in the 'age' column\n",
        "Data['age'] = Data['age'].replace('89 or older', '89')"
      ]
    },
    {
      "cell_type": "code",
      "execution_count": null,
      "metadata": {
        "id": "LJGMx9mrVUO1"
      },
      "outputs": [],
      "source": [
        "#closing gaps between all values in the data eg. 5 999 to 5999\n",
        "# Function to clean and close gaps in numbers\n",
        "def close_gaps(value):\n",
        "    if isinstance(value, str):\n",
        "        # Remove spaces and convert to an integer\n",
        "        value = int(value.replace(' ', ''))\n",
        "        return str(value)\n",
        "    return value\n",
        "# Apply the close_gaps function to the entire DataFrame\n",
        "Data = Data.applymap(close_gaps)"
      ]
    },
    {
      "cell_type": "code",
      "execution_count": null,
      "metadata": {
        "id": "JMzmGVwFVUO1"
      },
      "outputs": [],
      "source": [
        "#convert all object (string) columns to float,\n",
        "for column in Data.columns:\n",
        "    if Data[column].dtype == 'object':\n",
        "        Data[column] = pd.to_numeric(Data[column], errors='coerce')"
      ]
    },
    {
      "cell_type": "code",
      "execution_count": null,
      "metadata": {
        "id": "CPW5iEzDVUO1",
        "outputId": "05db260f-b014-4f5b-f822-65608d296867"
      },
      "outputs": [
        {
          "name": "stdout",
          "output_type": "stream",
          "text": [
            "<class 'pandas.core.frame.DataFrame'>\n",
            "Int64Index: 1696 entries, 55087 to 57060\n",
            "Data columns (total 13 columns):\n",
            " #   Column                 Non-Null Count  Dtype\n",
            "---  ------                 --------------  -----\n",
            " 0   age                    1696 non-null   int64\n",
            " 1   sex_MALE               1696 non-null   int64\n",
            " 2   race_Other             1696 non-null   int64\n",
            " 3   race_White             1696 non-null   int64\n",
            " 4   res16_BIG-CITY SUBURB  1696 non-null   int64\n",
            " 5   res16_CITY GT 250000   1696 non-null   int64\n",
            " 6   res16_COUNTRY,NONFARM  1696 non-null   int64\n",
            " 7   res16_FARM             1696 non-null   int64\n",
            " 8   res16_TOWN LT 50000    1696 non-null   int64\n",
            " 9   convictd_encoded       1696 non-null   int64\n",
            " 10  rincome_encoded        1696 non-null   int64\n",
            " 11  madeg_encoded          1696 non-null   int64\n",
            " 12  padeg_encoded          1696 non-null   int64\n",
            "dtypes: int64(13)\n",
            "memory usage: 185.5 KB\n"
          ]
        }
      ],
      "source": [
        "Data.info()"
      ]
    },
    {
      "cell_type": "markdown",
      "metadata": {
        "id": "4VlvCwZ0VUO1"
      },
      "source": [
        "# Replacing all Missing Values with Mean"
      ]
    },
    {
      "cell_type": "code",
      "execution_count": null,
      "metadata": {
        "id": "s3xR9KUQVUO1"
      },
      "outputs": [],
      "source": [
        "# Calculate the mean for each column\n",
        "column_means = Data.mean()\n",
        "#Replace missing values with column means\n",
        "Data=Data.fillna(column_means)"
      ]
    },
    {
      "cell_type": "code",
      "execution_count": null,
      "metadata": {
        "id": "g_77g3PuVUO2"
      },
      "outputs": [],
      "source": [
        "#Checking for missing values\n",
        "Data.to_excel('C:/Users/Benjamin/Desktop/Interview/NIW/Data/clean_update.xlsx', index=False)"
      ]
    },
    {
      "cell_type": "code",
      "execution_count": null,
      "metadata": {
        "id": "eZdnBmq1VUO2",
        "outputId": "4c8fd5ce-3729-4042-e1b1-db34e58fa761"
      },
      "outputs": [
        {
          "name": "stdout",
          "output_type": "stream",
          "text": [
            "age                      int64\n",
            "sex_MALE                 int64\n",
            "race_Other               int64\n",
            "race_White               int64\n",
            "res16_BIG-CITY SUBURB    int64\n",
            "res16_CITY GT 250000     int64\n",
            "res16_COUNTRY,NONFARM    int64\n",
            "res16_FARM               int64\n",
            "res16_TOWN LT 50000      int64\n",
            "convictd_encoded         int64\n",
            "rincome_encoded          int64\n",
            "madeg_encoded            int64\n",
            "padeg_encoded            int64\n",
            "dtype: object\n"
          ]
        }
      ],
      "source": [
        "# Check the data types of variables (columns)\n",
        "data_typ = Data.dtypes\n",
        "\n",
        "# Display the data types\n",
        "print(data_typ)"
      ]
    },
    {
      "cell_type": "code",
      "execution_count": null,
      "metadata": {
        "id": "m6hm2d-8VUO2"
      },
      "outputs": [],
      "source": [
        "#Creating dependent and independent indices\n",
        "X_data=Data.drop(columns=['convictd_encoded'])\n",
        "Y_data=Data['convictd_encoded']"
      ]
    },
    {
      "cell_type": "markdown",
      "metadata": {
        "id": "jN0leXghVUO2"
      },
      "source": [
        "# Checking and dropping one variable if correlation between independent variable are > 0.95"
      ]
    },
    {
      "cell_type": "code",
      "execution_count": null,
      "metadata": {
        "id": "4HkZVVDWVUO3"
      },
      "outputs": [],
      "source": [
        "#Getting the correlation between the independent Variables\n",
        "correlation_matrix=X_data.corr()"
      ]
    },
    {
      "cell_type": "code",
      "execution_count": null,
      "metadata": {
        "id": "AEYqFxLfVUO3"
      },
      "outputs": [],
      "source": [
        "threshold = 0.95\n",
        "correlated_pairs = set()\n",
        "\n",
        "for i in range(len(correlation_matrix.columns)):\n",
        "    for j in range(i):\n",
        "        if abs(correlation_matrix.iloc[i, j]) > threshold:\n",
        "            colname_i = correlation_matrix.columns[i]\n",
        "            colname_j = correlation_matrix.columns[j]\n",
        "            correlated_pairs.add((colname_i, colname_j))"
      ]
    },
    {
      "cell_type": "code",
      "execution_count": null,
      "metadata": {
        "id": "PKnYHbjVVUO3"
      },
      "outputs": [],
      "source": [
        "for var1, var2 in correlated_pairs:\n",
        "    # Decide which variable to keep and remove the other\n",
        "    # For example, removing var2:\n",
        "    if var2 in X_data.columns:\n",
        "        X_data.drop(var2, axis=1, inplace=True)"
      ]
    },
    {
      "cell_type": "markdown",
      "metadata": {
        "id": "TccPNwyvVUO3"
      },
      "source": [
        "# Applying Smote Technique"
      ]
    },
    {
      "cell_type": "code",
      "execution_count": null,
      "metadata": {
        "id": "jhaBv-VhVUO3"
      },
      "outputs": [],
      "source": [
        "from imblearn.over_sampling import SMOTE\n",
        "from sklearn.utils import resample\n",
        "\n",
        "# Apply SMOTE to the target variable only\n",
        "smote = SMOTE(sampling_strategy='auto',random_state=42)\n",
        "X_resampled,y_resampled = smote.fit_resample(X_data,Y_data)"
      ]
    },
    {
      "cell_type": "code",
      "execution_count": null,
      "metadata": {
        "id": "dmijwHwBVUO3",
        "outputId": "db35eeba-7d9c-4894-8162-2bf7eaf3a298"
      },
      "outputs": [
        {
          "name": "stdout",
          "output_type": "stream",
          "text": [
            "Class distribution after SMOTE (Target variable only): Counter({0: 1505, 1: 1505})\n"
          ]
        }
      ],
      "source": [
        "from collections import Counter\n",
        "# Resampled class distribution\n",
        "print(\"Class distribution after SMOTE (Target variable only):\", Counter(y_resampled))"
      ]
    },
    {
      "cell_type": "code",
      "execution_count": null,
      "metadata": {
        "id": "7Ve9R0HLVUPM"
      },
      "outputs": [],
      "source": [
        "# Sample DataFrame with the resampled target variable y_resampled\n",
        "Y_resampled= pd.DataFrame({\n",
        "    'y_resampled': y_resampled  # Replace with your actual resampled target variable\n",
        "})\n"
      ]
    },
    {
      "cell_type": "code",
      "execution_count": null,
      "metadata": {
        "id": "8TvMfDZZVUPN",
        "outputId": "038067d1-77cb-4ec5-9e02-e21e4578dbe9"
      },
      "outputs": [
        {
          "data": {
            "image/png": "[encoded data removed]",
            "text/plain": [
              "<Figure size 576x432 with 1 Axes>"
            ]
          },
          "metadata": {},
          "output_type": "display_data"
        }
      ],
      "source": [
        "# Count the occurrences of each class\n",
        "class_counts = Y_resampled['y_resampled'].value_counts()\n",
        "\n",
        "# Create a bar plot\n",
        "plt.figure(figsize=(8, 6))\n",
        "class_counts.plot(kind='bar')\n",
        "plt.xlabel('Class')\n",
        "plt.ylabel('Count')\n",
        "plt.title('Class Distribution (After SMOTE)')\n",
        "plt.show()"
      ]
    },
    {
      "cell_type": "code",
      "execution_count": null,
      "metadata": {
        "id": "TAyUDhfFVUPN"
      },
      "outputs": [],
      "source": [
        "# Split the data into a training and testing set\n",
        "X_train, X_test, y_train, y_test = train_test_split(X_resampled, y_resampled, test_size=0.3, random_state=42)"
      ]
    },
    {
      "cell_type": "code",
      "execution_count": null,
      "metadata": {
        "id": "_oS6MQWzVUPN"
      },
      "outputs": [],
      "source": [
        "import statsmodels.api as sm\n",
        "from statsmodels.tools.tools import add_constant\n",
        "# Add a constant (intercept) to the features\n",
        "X_with_const = add_constant(X_train)\n"
      ]
    },
    {
      "cell_type": "code",
      "execution_count": null,
      "metadata": {
        "scrolled": true,
        "id": "1VaXFoAaVUPN",
        "outputId": "125529dd-321f-46fa-80a8-4c34634ef757"
      },
      "outputs": [
        {
          "name": "stdout",
          "output_type": "stream",
          "text": [
            "Optimization terminated successfully    (Exit mode 0)\n",
            "            Current function value: 0.4793514700078308\n",
            "            Iterations: 145\n",
            "            Function evaluations: 148\n",
            "            Gradient evaluations: 145\n",
            "                           Logit Regression Results                           \n",
            "==============================================================================\n",
            "Dep. Variable:       convictd_encoded   No. Observations:                 2107\n",
            "Model:                          Logit   Df Residuals:                     2094\n",
            "Method:                           MLE   Df Model:                           12\n",
            "Date:                Thu, 19 Oct 2023   Pseudo R-squ.:                  0.3234\n",
            "Time:                        12:50:08   Log-Likelihood:                -988.02\n",
            "converged:                       True   LL-Null:                       -1460.4\n",
            "Covariance Type:            nonrobust   LLR p-value:                1.431e-194\n",
            "=========================================================================================\n",
            "                            coef    std err          z      P>|z|      [0.025      0.975]\n",
            "-----------------------------------------------------------------------------------------\n",
            "const                     4.3440      0.345     12.585      0.000       3.667       5.020\n",
            "age                      -0.0293      0.004     -7.592      0.000      -0.037      -0.022\n",
            "sex_MALE                  0.4552      0.112      4.071      0.000       0.236       0.674\n",
            "race_Other               -3.0698      0.367     -8.355      0.000      -3.790      -2.350\n",
            "race_White               -0.6367      0.141     -4.504      0.000      -0.914      -0.360\n",
            "res16_BIG-CITY SUBURB    -2.5792      0.195    -13.243      0.000      -2.961      -2.198\n",
            "res16_CITY GT 250000     -2.3272      0.187    -12.428      0.000      -2.694      -1.960\n",
            "res16_COUNTRY,NONFARM    -2.4175      0.224    -10.804      0.000      -2.856      -1.979\n",
            "res16_FARM               -3.4831      0.350     -9.950      0.000      -4.169      -2.797\n",
            "res16_TOWN LT 50000      -2.3046      0.143    -16.136      0.000      -2.585      -2.025\n",
            "rincome_encoded          -0.0478      0.022     -2.199      0.028      -0.090      -0.005\n",
            "madeg_encoded            -0.0826      0.050     -1.645      0.100      -0.181       0.016\n",
            "padeg_encoded            -0.1958      0.047     -4.174      0.000      -0.288      -0.104\n",
            "=========================================================================================\n"
          ]
        }
      ],
      "source": [
        "\n",
        "# Create and fit the logistic regression model using Ridge (L2) regularization\n",
        "ridge_model = sm.Logit(y_train, X_with_const)  # Create the model\n",
        "ridge_results = ridge_model.fit_regularized(method='l1', alpha=1.0)  # Fit with Ridge (L2) regularization\n",
        "\n",
        "# Print the summary of the logistic regression model with Ridge regularization\n",
        "print(ridge_results.summary())"
      ]
    },
    {
      "cell_type": "code",
      "execution_count": null,
      "metadata": {
        "id": "bHR3v5U-VUPO"
      },
      "outputs": [],
      "source": [
        "# Export the logistic regression results to an Excel file\n",
        "summary_table =ridge_results.summary()\n",
        "summary_table = summary_table.tables[1]  # Select the table containing coefficients and statistics"
      ]
    },
    {
      "cell_type": "code",
      "execution_count": null,
      "metadata": {
        "id": "DVUjKTDAVUPO"
      },
      "outputs": [],
      "source": [
        "# Convert the summary table to a pandas DataFrame\n",
        "summary_df = pd.DataFrame(summary_table.data, columns=summary_table.data[0])"
      ]
    },
    {
      "cell_type": "code",
      "execution_count": null,
      "metadata": {
        "id": "-4gdEu4kVUPO"
      },
      "outputs": [],
      "source": [
        "# Save the summary DataFrame to an Excel file\n",
        "summary_df.to_excel('C:/Users/Benjamin/Desktop/Interview/NIW/Data/result_dummy.xlsx', index=False)"
      ]
    }
  ],
  "metadata": {
    "kernelspec": {
      "display_name": "Python 3",
      "language": "python",
      "name": "python3"
    },
    "language_info": {
      "codemirror_mode": {
        "name": "ipython",
        "version": 3
      },
      "file_extension": ".py",
      "mimetype": "text/x-python",
      "name": "python",
      "nbconvert_exporter": "python",
      "pygments_lexer": "ipython3",
      "version": "3.7.1"
    },
    "colab": {
      "provenance": [],
      "include_colab_link": true
    }
  },
  "nbformat": 4,
  "nbformat_minor": 0
}